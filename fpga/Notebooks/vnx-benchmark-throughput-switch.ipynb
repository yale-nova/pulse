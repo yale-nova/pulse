{
 "cells": [
  {
   "cell_type": "markdown",
   "metadata": {},
   "source": [
    "# Benchmark Throughput experiment (Switch)\n",
    "This notebook will show you how to measure the throughput between two Alveo nodes using the benchmark application with UDP as a transport protocol.\n",
    "We are going to rely on a Dask cluster to configure the local and remote Alveo cards.\n",
    "\n",
    "This notebook assumes:\n",
    "* The Alveo cards are connected to a switch\n",
    "* Dask cluster is already created and running. For more information about setting up a Dask cluster visit the [Dask documentation](https://docs.dask.org/en/latest/setup.html)"
   ]
  },
  {
   "cell_type": "markdown",
   "metadata": {},
   "source": [
    "## Connect to the Dask cluster\n",
    "1. Connect to the Dask cluster\n",
    "1. Grab workers name\n",
    "1. Check if there are two workers available"
   ]
  },
  {
   "cell_type": "code",
   "execution_count": 1,
   "metadata": {},
   "outputs": [
    {
     "data": {
      "text/html": [
       "<table style=\"border: 2px solid white;\">\n",
       "<tr>\n",
       "<td style=\"vertical-align: top; border: 0px solid white\">\n",
       "<h3 style=\"text-align: left;\">Client</h3>\n",
       "<ul style=\"text-align: left; list-style: none; margin: 0; padding: 0;\">\n",
       "  <li><b>Scheduler: </b>tcp://10.1.212.127:8786</li>\n",
       "  <li><b>Dashboard: </b><a href='http://10.1.212.127:8787/status' target='_blank'>http://10.1.212.127:8787/status</a>\n",
       "</ul>\n",
       "</td>\n",
       "<td style=\"vertical-align: top; border: 0px solid white\">\n",
       "<h3 style=\"text-align: left;\">Cluster</h3>\n",
       "<ul style=\"text-align: left; list-style:none; margin: 0; padding: 0;\">\n",
       "  <li><b>Workers: </b>2</li>\n",
       "  <li><b>Cores: </b>32</li>\n",
       "  <li><b>Memory: </b>232.35 GB</li>\n",
       "</ul>\n",
       "</td>\n",
       "</tr>\n",
       "</table>"
      ],
      "text/plain": [
       "<Client: 'tcp://10.1.212.127:8786' processes=2 threads=32, memory=232.35 GB>"
      ]
     },
     "execution_count": 1,
     "metadata": {},
     "output_type": "execute_result"
    }
   ],
   "source": [
    "from dask.distributed import Client, get_client\n",
    "\n",
    "client = Client(\"tcp://10.1.212.127:8786\")\n",
    "client"
   ]
  },
  {
   "cell_type": "code",
   "execution_count": 2,
   "metadata": {},
   "outputs": [],
   "source": [
    "client_info = client.scheduler_info()['workers']\n",
    "workers = []\n",
    "for cli in client_info:\n",
    "    workers.append(client_info[cli]['name'])\n",
    "\n",
    "if len(workers) != 2:\n",
    "    print(\"Configure your Dask cluster with two workers\")"
   ]
  },
  {
   "cell_type": "markdown",
   "metadata": {},
   "source": [
    "## Basic remote functions\n",
    "In this part we are going to schedule a basic function to the workers to verify that we are able to pinpoint tasks to a particular worker, we are also going to grab the Alveo shell name.\n",
    "You should visually check that your xclbin file is built for the Alveo shell available on the workers."
   ]
  },
  {
   "cell_type": "code",
   "execution_count": 3,
   "metadata": {},
   "outputs": [
    {
     "name": "stdout",
     "output_type": "stream",
     "text": [
      "Worker name: alveo3c | shell version: \"xilinx_u280_xdma_201920_3\"\n",
      "Worker name: alveo4b | shell version: \"xilinx_u280_xdma_201920_3\"\n"
     ]
    }
   ],
   "source": [
    "import platform, os\n",
    "\n",
    "def verify_workers():\n",
    "    node_name = platform.node()\n",
    "    shell_version = os.popen(\"xbutil dump | grep dsa_name\").read()\n",
    "    #match = True\n",
    "    #if 'xilinx_u280_xdma_201920_3' not in shell_version:\n",
    "    #    match = False\n",
    "    return node_name, shell_version[24:-2]\n",
    "\n",
    "worker_0 = client.submit(verify_workers ,workers=workers[0], pure=False)\n",
    "worker_1 = client.submit(verify_workers ,workers=workers[1], pure=False)\n",
    "\n",
    "worker_check = [worker_0.result(),worker_1.result()]\n",
    "\n",
    "for w in worker_check:\n",
    "    print('Worker name: {} | shell version: {}'.format(w[0],w[1]))"
   ]
  },
  {
   "cell_type": "markdown",
   "metadata": {},
   "source": [
    "## Source Dask device and utilities\n",
    "\n",
    "In this section we will import the libraries and dask on pynq class which allow us to:\n",
    "\n",
    "* Download a `xclbin` file to a worker\n",
    "* Peek and poke registers\n",
    "* Allocate buffers\n",
    "* Start kernels\n",
    "\n",
    "All of these capabilities are available for both local and remote workers"
   ]
  },
  {
   "cell_type": "code",
   "execution_count": 4,
   "metadata": {},
   "outputs": [
    {
     "data": {
      "application/javascript": [
       "\n",
       "try {\n",
       "require(['notebook/js/codecell'], function(codecell) {\n",
       "  codecell.CodeCell.options_default.highlight_modes[\n",
       "      'magic_text/x-csrc'] = {'reg':[/^%%microblaze/]};\n",
       "  Jupyter.notebook.events.one('kernel_ready.Kernel', function(){\n",
       "      Jupyter.notebook.get_cells().map(function(cell){\n",
       "          if (cell.cell_type == 'code'){ cell.auto_highlight(); } }) ;\n",
       "  });\n",
       "});\n",
       "} catch (e) {};\n"
      ]
     },
     "metadata": {},
     "output_type": "display_data"
    }
   ],
   "source": [
    "from vnx_utils import *\n",
    "import pynq\n",
    "%run dask_pynq.py"
   ]
  },
  {
   "cell_type": "markdown",
   "metadata": {},
   "source": [
    "## Download xclbin to Alveo cards\n",
    "1. Create Dask device for each worker\n",
    "2. Create an overlay object for each worker, this step will download the `xclbin` file to the Alveo card"
   ]
  },
  {
   "cell_type": "code",
   "execution_count": 5,
   "metadata": {},
   "outputs": [
    {
     "name": "stderr",
     "output_type": "stream",
     "text": [
      "/mnt/scratch/marruiz/conda/lib/python3.7/site-packages/distributed/worker.py:3321: UserWarning: Large object of size 51.33 MB detected in task graph: \n",
      "  (b'xclbin2\\x00\\xff\\xff\\xff\\xff\\xff\\xff\\xff\\xff\\xff ... ROR_DATA_END',)\n",
      "Consider scattering large objects ahead of time\n",
      "with client.scatter to reduce scheduler burden and \n",
      "keep data on workers\n",
      "\n",
      "    future = client.submit(func, big_data)    # bad\n",
      "\n",
      "    big_future = client.scatter(big_data)     # good\n",
      "    future = client.submit(func, big_future)  # good\n",
      "  % (format_bytes(len(b)), s)\n"
     ]
    }
   ],
   "source": [
    "daskdev_w0 = DaskDevice(client, workers[0])\n",
    "daskdev_w1 = DaskDevice(client, workers[1])\n",
    "\n",
    "xclbin = '../benchmark.intf3.xilinx_u280_xdma_201920_3/vnx_benchmark_if3.xclbin'\n",
    "ol_w0 = pynq.Overlay(xclbin, device=daskdev_w0)\n",
    "ol_w1 = pynq.Overlay(xclbin, device=daskdev_w1)"
   ]
  },
  {
   "cell_type": "markdown",
   "metadata": {},
   "source": [
    "## Check Link \n",
    "\n",
    "We are going to use the function `link_status` that reports if the CMAC is detecting link, which means that the physical connection\n",
    "between each Alveo card and the switch is established."
   ]
  },
  {
   "cell_type": "code",
   "execution_count": 6,
   "metadata": {},
   "outputs": [
    {
     "name": "stdout",
     "output_type": "stream",
     "text": [
      "Link worker 0 {'cmac_link': True}; link worker 1 {'cmac_link': True}\n"
     ]
    }
   ],
   "source": [
    "print(\"Link worker 0 {}; link worker 1 {}\".format(ol_w0.cmac_0.link_status(),ol_w1.cmac_0.link_status()))"
   ]
  },
  {
   "cell_type": "markdown",
   "metadata": {},
   "source": [
    "## Configure IP address of the Alveo cards\n",
    "In the next cell we are going to configure the IP address of the two Alveo cards"
   ]
  },
  {
   "cell_type": "code",
   "execution_count": 7,
   "metadata": {},
   "outputs": [
    {
     "name": "stdout",
     "output_type": "stream",
     "text": [
      "Worker 0: {'HWaddr': '00:0a:35:02:9d:c7', 'inet addr': '10.1.212.199', 'gateway addr': '10.1.212.1', 'Mask': '255.255.255.0'}\n",
      "Worker 1: {'HWaddr': '00:0a:35:02:9d:be', 'inet addr': '10.1.212.190', 'gateway addr': '10.1.212.1', 'Mask': '255.255.255.0'}\n"
     ]
    }
   ],
   "source": [
    "ip_w0 , ip_w1 = '10.1.212.199' , '10.1.212.190'\n",
    "if_status_w0 = ol_w0.networklayer_0.set_ip_address(ip_w0, debug=True)\n",
    "if_status_w1 = ol_w1.networklayer_0.set_ip_address(ip_w1, debug=True)\n",
    "print(\"Worker 0: {}\\nWorker 1: {}\".format(if_status_w0, if_status_w1))"
   ]
  },
  {
   "cell_type": "markdown",
   "metadata": {},
   "source": [
    "### Configure remote Alveo card\n",
    "\n",
    "1. Set up connection table\n",
    "2. Launch ARP discovery\n",
    "3. Print out ARP Table "
   ]
  },
  {
   "cell_type": "code",
   "execution_count": 8,
   "metadata": {},
   "outputs": [
    {
     "name": "stdout",
     "output_type": "stream",
     "text": [
      "Position   1\tMAC address 04:c5:a4:e3:fb:41\tIP address 10.1.212.1\n",
      "Position   4\tMAC address 52:54:00:90:c2:04\tIP address 10.1.212.4\n",
      "Position   6\tMAC address 52:54:00:90:c2:06\tIP address 10.1.212.6\n",
      "Position  11\tMAC address 00:1e:67:34:65:b8\tIP address 10.1.212.11\n",
      "Position  12\tMAC address 00:1e:67:34:63:b8\tIP address 10.1.212.12\n",
      "Position  13\tMAC address 00:1e:67:34:64:00\tIP address 10.1.212.13\n",
      "Position  14\tMAC address 00:1e:67:34:65:bc\tIP address 10.1.212.14\n",
      "Position  15\tMAC address 00:1e:67:34:64:20\tIP address 10.1.212.15\n",
      "Position  16\tMAC address 00:1e:67:34:64:08\tIP address 10.1.212.16\n",
      "Position  17\tMAC address 00:1e:67:34:65:18\tIP address 10.1.212.17\n",
      "Position  18\tMAC address 00:1e:67:34:65:28\tIP address 10.1.212.18\n",
      "Position  24\tMAC address 90:e2:ba:04:74:e0\tIP address 10.1.212.24\n",
      "Position  25\tMAC address 0c:42:a1:7c:c9:18\tIP address 10.1.212.25\n",
      "Position  33\tMAC address 90:e2:ba:55:df:65\tIP address 10.1.212.33\n",
      "Position  41\tMAC address 00:25:b5:00:00:1f\tIP address 10.1.212.41\n",
      "Position  42\tMAC address 00:25:b5:00:00:3f\tIP address 10.1.212.42\n",
      "Position  43\tMAC address 00:25:b5:00:00:3e\tIP address 10.1.212.43\n",
      "Position  44\tMAC address 00:25:b5:00:00:1e\tIP address 10.1.212.44\n",
      "Position  45\tMAC address 90:e2:ba:04:74:04\tIP address 10.1.212.45\n",
      "Position  46\tMAC address 90:e2:ba:46:e8:74\tIP address 10.1.212.46\n",
      "Position  47\tMAC address d4:ae:52:8c:80:79\tIP address 10.1.212.47\n",
      "Position  51\tMAC address 00:80:e5:19:37:71\tIP address 10.1.212.51\n",
      "Position  52\tMAC address 00:80:e5:19:35:b1\tIP address 10.1.212.52\n",
      "Position  61\tMAC address ec:f4:bb:bf:ec:90\tIP address 10.1.212.61\n",
      "Position  62\tMAC address b8:ca:3a:6f:6e:78\tIP address 10.1.212.62\n",
      "Position  63\tMAC address b8:ca:3a:6f:71:48\tIP address 10.1.212.63\n",
      "Position  64\tMAC address b8:ca:3a:6f:70:78\tIP address 10.1.212.64\n",
      "Position  71\tMAC address ec:f4:bb:db:aa:c0\tIP address 10.1.212.71\n",
      "Position  72\tMAC address ec:f4:bb:db:ba:48\tIP address 10.1.212.72\n",
      "Position  73\tMAC address ec:f4:bb:db:b8:98\tIP address 10.1.212.73\n",
      "Position  74\tMAC address ec:f4:bb:db:ab:f0\tIP address 10.1.212.74\n",
      "Position  76\tMAC address ec:f4:bb:db:b9:38\tIP address 10.1.212.76\n",
      "Position  77\tMAC address ec:f4:bb:db:b1:48\tIP address 10.1.212.77\n",
      "Position  78\tMAC address ec:f4:bb:db:b1:b8\tIP address 10.1.212.78\n",
      "Position  81\tMAC address ec:f4:bb:db:b4:18\tIP address 10.1.212.81\n",
      "Position  82\tMAC address ec:f4:bb:db:b3:b8\tIP address 10.1.212.82\n",
      "Position 101\tMAC address 90:e2:ba:11:09:ac\tIP address 10.1.212.101\n",
      "Position 102\tMAC address 90:e2:ba:27:ff:a4\tIP address 10.1.212.102\n",
      "Position 103\tMAC address 24:6e:96:6a:f7:98\tIP address 10.1.212.103\n",
      "Position 104\tMAC address 24:6e:96:6a:f2:70\tIP address 10.1.212.104\n",
      "Position 110\tMAC address b8:59:9f:f6:7e:e8\tIP address 10.1.212.110\n",
      "Position 111\tMAC address e4:43:4b:aa:6a:30\tIP address 10.1.212.111\n",
      "Position 112\tMAC address e4:43:4b:8a:4d:d0\tIP address 10.1.212.112\n",
      "Position 113\tMAC address e4:43:4b:aa:65:d0\tIP address 10.1.212.113\n",
      "Position 114\tMAC address e4:43:4b:aa:66:10\tIP address 10.1.212.114\n",
      "Position 121\tMAC address 52:54:00:77:77:1a\tIP address 10.1.212.121\n",
      "Position 122\tMAC address 52:54:00:77:77:1b\tIP address 10.1.212.122\n",
      "Position 123\tMAC address 52:54:00:77:77:2a\tIP address 10.1.212.123\n",
      "Position 124\tMAC address 52:54:00:77:77:2b\tIP address 10.1.212.124\n",
      "Position 125\tMAC address 52:54:00:77:77:3a\tIP address 10.1.212.125\n",
      "Position 126\tMAC address 52:54:00:77:77:3b\tIP address 10.1.212.126\n",
      "Position 127\tMAC address 52:54:00:77:77:3c\tIP address 10.1.212.127\n",
      "Position 128\tMAC address 52:54:00:77:77:4a\tIP address 10.1.212.128\n",
      "Position 129\tMAC address 52:54:00:77:77:4b\tIP address 10.1.212.129\n",
      "Position 130\tMAC address 52:54:00:77:77:4c\tIP address 10.1.212.130\n",
      "Position 131\tMAC address 90:e2:ba:da:1e:e4\tIP address 10.1.212.131\n",
      "Position 132\tMAC address 90:e2:ba:da:14:34\tIP address 10.1.212.132\n",
      "Position 133\tMAC address 90:e2:ba:ef:eb:4c\tIP address 10.1.212.133\n",
      "Position 134\tMAC address 90:e2:ba:ed:4e:58\tIP address 10.1.212.134\n",
      "Position 135\tMAC address 90:e2:ba:ef:f0:3c\tIP address 10.1.212.135\n",
      "Position 136\tMAC address 90:e2:ba:ef:eb:b4\tIP address 10.1.212.136\n",
      "Position 137\tMAC address 90:e2:ba:ef:f2:10\tIP address 10.1.212.137\n",
      "Position 138\tMAC address 90:e2:ba:ef:fb:44\tIP address 10.1.212.138\n",
      "Position 139\tMAC address 90:e2:ba:ef:eb:cc\tIP address 10.1.212.139\n",
      "Position 140\tMAC address 90:e2:ba:ef:ec:c0\tIP address 10.1.212.140\n",
      "Position 141\tMAC address 90:e2:ba:ed:57:4c\tIP address 10.1.212.141\n",
      "Position 142\tMAC address 90:e2:ba:ef:fb:88\tIP address 10.1.212.142\n",
      "Position 143\tMAC address 90:e2:ba:ef:ec:60\tIP address 10.1.212.143\n",
      "Position 144\tMAC address 90:e2:ba:ef:fb:a0\tIP address 10.1.212.144\n",
      "Position 145\tMAC address 90:e2:ba:ef:fb:98\tIP address 10.1.212.145\n",
      "Position 146\tMAC address 90:e2:ba:ef:fb:b8\tIP address 10.1.212.146\n",
      "Position 147\tMAC address 90:e2:ba:ed:56:d8\tIP address 10.1.212.147\n",
      "Position 148\tMAC address 90:e2:ba:ef:ed:00\tIP address 10.1.212.148\n",
      "Position 149\tMAC address 90:e2:ba:ed:4e:60\tIP address 10.1.212.149\n",
      "Position 150\tMAC address 90:e2:ba:ef:eb:a0\tIP address 10.1.212.150\n",
      "Position 199\tMAC address 00:0a:35:02:9d:c7\tIP address 10.1.212.199\n",
      "Position 209\tMAC address 00:0a:35:02:9d:e5\tIP address 10.1.212.209\n",
      "Position 210\tMAC address 00:0a:35:02:9d:e6\tIP address 10.1.212.210\n",
      "Position 211\tMAC address 00:0a:35:02:9d:e7\tIP address 10.1.212.211\n",
      "Position 213\tMAC address 00:0a:35:02:9d:e5\tIP address 10.1.212.213\n",
      "Position 214\tMAC address 00:0a:35:02:9d:e6\tIP address 10.1.212.214\n"
     ]
    }
   ],
   "source": [
    "ol_w1.networklayer_0.sockets[3] = (ip_w0, 62177, 60512, True)\n",
    "ol_w1.networklayer_0.populate_socket_table()\n",
    "\n",
    "ol_w1.networklayer_0.arp_discovery()\n",
    "\n",
    "ol_w1.networklayer_0.get_arp_table()"
   ]
  },
  {
   "cell_type": "markdown",
   "metadata": {},
   "source": [
    "### Configure local Alveo card\n",
    "\n",
    "1. Set up connection table\n",
    "2. Launch ARP discovery\n",
    "3. Print out ARP Table "
   ]
  },
  {
   "cell_type": "code",
   "execution_count": 9,
   "metadata": {},
   "outputs": [
    {
     "name": "stdout",
     "output_type": "stream",
     "text": [
      "Position   1\tMAC address 04:c5:a4:e3:fb:41\tIP address 10.1.212.1\n",
      "Position   4\tMAC address 52:54:00:90:c2:04\tIP address 10.1.212.4\n",
      "Position   6\tMAC address 52:54:00:90:c2:06\tIP address 10.1.212.6\n",
      "Position  11\tMAC address 00:1e:67:34:65:b8\tIP address 10.1.212.11\n",
      "Position  12\tMAC address 00:1e:67:34:63:b8\tIP address 10.1.212.12\n",
      "Position  13\tMAC address 00:1e:67:34:64:00\tIP address 10.1.212.13\n",
      "Position  14\tMAC address 00:1e:67:34:65:bc\tIP address 10.1.212.14\n",
      "Position  15\tMAC address 00:1e:67:34:64:20\tIP address 10.1.212.15\n",
      "Position  16\tMAC address 00:1e:67:34:64:08\tIP address 10.1.212.16\n",
      "Position  17\tMAC address 00:1e:67:34:65:18\tIP address 10.1.212.17\n",
      "Position  18\tMAC address 00:1e:67:34:65:28\tIP address 10.1.212.18\n",
      "Position  24\tMAC address 90:e2:ba:04:74:e0\tIP address 10.1.212.24\n",
      "Position  25\tMAC address 0c:42:a1:7c:c9:18\tIP address 10.1.212.25\n",
      "Position  33\tMAC address 90:e2:ba:55:df:65\tIP address 10.1.212.33\n",
      "Position  41\tMAC address 00:25:b5:00:00:1f\tIP address 10.1.212.41\n",
      "Position  42\tMAC address 00:25:b5:00:00:3f\tIP address 10.1.212.42\n",
      "Position  43\tMAC address 00:25:b5:00:00:3e\tIP address 10.1.212.43\n",
      "Position  44\tMAC address 00:25:b5:00:00:1e\tIP address 10.1.212.44\n",
      "Position  45\tMAC address 90:e2:ba:04:74:04\tIP address 10.1.212.45\n",
      "Position  46\tMAC address 90:e2:ba:46:e8:74\tIP address 10.1.212.46\n",
      "Position  47\tMAC address d4:ae:52:8c:80:79\tIP address 10.1.212.47\n",
      "Position  51\tMAC address 00:80:e5:19:37:71\tIP address 10.1.212.51\n",
      "Position  52\tMAC address 00:80:e5:19:35:b1\tIP address 10.1.212.52\n",
      "Position  61\tMAC address ec:f4:bb:bf:ec:90\tIP address 10.1.212.61\n",
      "Position  62\tMAC address b8:ca:3a:6f:6e:78\tIP address 10.1.212.62\n",
      "Position  63\tMAC address b8:ca:3a:6f:71:48\tIP address 10.1.212.63\n",
      "Position  64\tMAC address b8:ca:3a:6f:70:78\tIP address 10.1.212.64\n",
      "Position  71\tMAC address ec:f4:bb:db:aa:c0\tIP address 10.1.212.71\n",
      "Position  72\tMAC address ec:f4:bb:db:ba:48\tIP address 10.1.212.72\n",
      "Position  73\tMAC address ec:f4:bb:db:b8:98\tIP address 10.1.212.73\n",
      "Position  74\tMAC address ec:f4:bb:db:ab:f0\tIP address 10.1.212.74\n",
      "Position  76\tMAC address ec:f4:bb:db:b9:38\tIP address 10.1.212.76\n",
      "Position  77\tMAC address ec:f4:bb:db:b1:48\tIP address 10.1.212.77\n",
      "Position  78\tMAC address ec:f4:bb:db:b1:b8\tIP address 10.1.212.78\n",
      "Position  81\tMAC address ec:f4:bb:db:b4:18\tIP address 10.1.212.81\n",
      "Position  82\tMAC address ec:f4:bb:db:b3:b8\tIP address 10.1.212.82\n",
      "Position 101\tMAC address 90:e2:ba:11:09:ac\tIP address 10.1.212.101\n",
      "Position 102\tMAC address 90:e2:ba:27:ff:a4\tIP address 10.1.212.102\n",
      "Position 103\tMAC address 24:6e:96:6a:f7:98\tIP address 10.1.212.103\n",
      "Position 104\tMAC address 24:6e:96:6a:f2:70\tIP address 10.1.212.104\n",
      "Position 110\tMAC address b8:59:9f:f6:7e:e8\tIP address 10.1.212.110\n",
      "Position 111\tMAC address e4:43:4b:aa:6a:30\tIP address 10.1.212.111\n",
      "Position 112\tMAC address e4:43:4b:8a:4d:d0\tIP address 10.1.212.112\n",
      "Position 113\tMAC address e4:43:4b:aa:65:d0\tIP address 10.1.212.113\n",
      "Position 114\tMAC address e4:43:4b:aa:66:10\tIP address 10.1.212.114\n",
      "Position 121\tMAC address 52:54:00:77:77:1a\tIP address 10.1.212.121\n",
      "Position 122\tMAC address 52:54:00:77:77:1b\tIP address 10.1.212.122\n",
      "Position 123\tMAC address 52:54:00:77:77:2a\tIP address 10.1.212.123\n",
      "Position 124\tMAC address 52:54:00:77:77:2b\tIP address 10.1.212.124\n",
      "Position 125\tMAC address 52:54:00:77:77:3a\tIP address 10.1.212.125\n",
      "Position 126\tMAC address 52:54:00:77:77:3b\tIP address 10.1.212.126\n",
      "Position 127\tMAC address 52:54:00:77:77:3c\tIP address 10.1.212.127\n",
      "Position 128\tMAC address 52:54:00:77:77:4a\tIP address 10.1.212.128\n",
      "Position 129\tMAC address 52:54:00:77:77:4b\tIP address 10.1.212.129\n",
      "Position 130\tMAC address 52:54:00:77:77:4c\tIP address 10.1.212.130\n",
      "Position 131\tMAC address 90:e2:ba:da:1e:e4\tIP address 10.1.212.131\n",
      "Position 132\tMAC address 90:e2:ba:da:14:34\tIP address 10.1.212.132\n",
      "Position 133\tMAC address 90:e2:ba:ef:eb:4c\tIP address 10.1.212.133\n",
      "Position 134\tMAC address 90:e2:ba:ed:4e:58\tIP address 10.1.212.134\n",
      "Position 135\tMAC address 90:e2:ba:ef:f0:3c\tIP address 10.1.212.135\n",
      "Position 136\tMAC address 90:e2:ba:ef:eb:b4\tIP address 10.1.212.136\n",
      "Position 137\tMAC address 90:e2:ba:ef:f2:10\tIP address 10.1.212.137\n",
      "Position 138\tMAC address 90:e2:ba:ef:fb:44\tIP address 10.1.212.138\n",
      "Position 139\tMAC address 90:e2:ba:ef:eb:cc\tIP address 10.1.212.139\n",
      "Position 140\tMAC address 90:e2:ba:ef:ec:c0\tIP address 10.1.212.140\n",
      "Position 141\tMAC address 90:e2:ba:ed:57:4c\tIP address 10.1.212.141\n",
      "Position 142\tMAC address 90:e2:ba:ef:fb:88\tIP address 10.1.212.142\n",
      "Position 143\tMAC address 90:e2:ba:ef:ec:60\tIP address 10.1.212.143\n",
      "Position 144\tMAC address 90:e2:ba:ef:fb:a0\tIP address 10.1.212.144\n",
      "Position 145\tMAC address 90:e2:ba:ef:fb:98\tIP address 10.1.212.145\n",
      "Position 146\tMAC address 90:e2:ba:ef:fb:b8\tIP address 10.1.212.146\n",
      "Position 147\tMAC address 90:e2:ba:ed:56:d8\tIP address 10.1.212.147\n",
      "Position 148\tMAC address 90:e2:ba:ef:ed:00\tIP address 10.1.212.148\n",
      "Position 149\tMAC address 90:e2:ba:ed:4e:60\tIP address 10.1.212.149\n",
      "Position 150\tMAC address 90:e2:ba:ef:eb:a0\tIP address 10.1.212.150\n",
      "Position 190\tMAC address 00:0a:35:02:9d:be\tIP address 10.1.212.190\n",
      "Position 209\tMAC address 00:0a:35:02:9d:e5\tIP address 10.1.212.209\n",
      "Position 210\tMAC address 00:0a:35:02:9d:e6\tIP address 10.1.212.210\n",
      "Position 211\tMAC address 00:0a:35:02:9d:e7\tIP address 10.1.212.211\n",
      "Position 213\tMAC address 00:0a:35:02:9d:e5\tIP address 10.1.212.213\n",
      "Position 214\tMAC address 00:0a:35:02:9d:e6\tIP address 10.1.212.214\n"
     ]
    }
   ],
   "source": [
    "ol_w0.networklayer_0.sockets[12] = (ip_w1, 60512, 62177, True)\n",
    "ol_w0.networklayer_0.populate_socket_table()\n",
    "\n",
    "ol_w0.networklayer_0.arp_discovery()\n",
    "\n",
    "ol_w0.networklayer_0.get_arp_table()"
   ]
  },
  {
   "cell_type": "markdown",
   "metadata": {},
   "source": [
    "## Configure application\n",
    "* Configure remote traffic generator 0 in `CONSUMER` mode"
   ]
  },
  {
   "cell_type": "code",
   "execution_count": 10,
   "metadata": {},
   "outputs": [],
   "source": [
    "ol_w1_tg = ol_w1.traffic_generator_0_3\n",
    "ol_w1_tg.register_map.debug_reset = 1\n",
    "ol_w1_tg.start(TgMode.CONSUMER)"
   ]
  },
  {
   "cell_type": "markdown",
   "metadata": {},
   "source": [
    "* Configure local traffic generator 0\n",
    "* Run the application for different packet sizes\n",
    "* Compute and store results for both local (Tx) and remote (Rx)"
   ]
  },
  {
   "cell_type": "code",
   "execution_count": 11,
   "metadata": {},
   "outputs": [
    {
     "name": "stdout",
     "output_type": "stream",
     "text": [
      "Sent      1,000,000 size:   64-Byte done!\tGot      1,000,000 took   0.0104 sec, thr: 49.231 Gbps, theoretical: 49.231 Gbps, difference: -0.0005 Gbps\n",
      "Sent      1,000,000 size:  128-Byte done!\tGot      1,000,000 took   0.0167 sec, thr: 61.297 Gbps, theoretical: 65.979 Gbps, difference: 4.6825 Gbps\n",
      "Sent      1,000,000 size:  192-Byte done!\tGot      1,000,000 took   0.0206 sec, thr: 74.419 Gbps, theoretical: 74.419 Gbps, difference: -0.0008 Gbps\n",
      "Sent      1,000,000 size:  256-Byte done!\tGot      1,000,000 took   0.0258 sec, thr: 79.504 Gbps, theoretical: 79.503 Gbps, difference: -0.0008 Gbps\n",
      "Sent      1,000,000 size:  320-Byte done!\tGot      1,000,000 took   0.0309 sec, thr: 82.902 Gbps, theoretical: 82.902 Gbps, difference: -0.0009 Gbps\n",
      "Sent      1,000,000 size:  384-Byte done!\tGot      1,000,000 took   0.0360 sec, thr: 85.334 Gbps, theoretical: 85.333 Gbps, difference: -0.0009 Gbps\n",
      "Sent      1,000,000 size:  448-Byte done!\tGot      1,000,000 took   0.0411 sec, thr: 87.160 Gbps, theoretical: 87.160 Gbps, difference: -0.0009 Gbps\n",
      "Sent      1,000,000 size:  512-Byte done!\tGot      1,000,000 took   0.0462 sec, thr: 88.582 Gbps, theoretical: 88.581 Gbps, difference: -0.0009 Gbps\n",
      "Sent      1,000,000 size:  576-Byte done!\tGot      1,000,000 took   0.0514 sec, thr: 89.721 Gbps, theoretical: 89.720 Gbps, difference: -0.0009 Gbps\n",
      "Sent      1,000,000 size:  640-Byte done!\tGot      1,000,000 took   0.0565 sec, thr: 90.652 Gbps, theoretical: 90.652 Gbps, difference: -0.0009 Gbps\n",
      "Sent      1,000,000 size:  704-Byte done!\tGot      1,000,000 took   0.0616 sec, thr: 91.430 Gbps, theoretical: 91.429 Gbps, difference: -0.0009 Gbps\n",
      "Sent      1,000,000 size:  768-Byte done!\tGot      1,000,000 took   0.0667 sec, thr: 92.087 Gbps, theoretical: 92.086 Gbps, difference: -0.0010 Gbps\n",
      "Sent      1,000,000 size:  832-Byte done!\tGot      1,000,000 took   0.0718 sec, thr: 92.651 Gbps, theoretical: 92.650 Gbps, difference: -0.0010 Gbps\n",
      "Sent      1,000,000 size:  896-Byte done!\tGot      1,000,000 took   0.0770 sec, thr: 93.140 Gbps, theoretical: 93.139 Gbps, difference: -0.0010 Gbps\n",
      "Sent      1,000,000 size:  960-Byte done!\tGot      1,000,000 took   0.0821 sec, thr: 93.568 Gbps, theoretical: 93.567 Gbps, difference: -0.0010 Gbps\n",
      "Sent      1,000,000 size: 1024-Byte done!\tGot      1,000,000 took   0.0872 sec, thr: 93.946 Gbps, theoretical: 93.945 Gbps, difference: -0.0010 Gbps\n",
      "Sent      1,000,000 size: 1088-Byte done!\tGot      1,000,000 took   0.0923 sec, thr: 94.282 Gbps, theoretical: 94.281 Gbps, difference: -0.0010 Gbps\n",
      "Sent      1,000,000 size: 1152-Byte done!\tGot      1,000,000 took   0.0974 sec, thr: 94.582 Gbps, theoretical: 94.581 Gbps, difference: -0.0010 Gbps\n",
      "Sent      1,000,000 size: 1216-Byte done!\tGot      1,000,000 took   0.1026 sec, thr: 94.853 Gbps, theoretical: 94.852 Gbps, difference: -0.0010 Gbps\n",
      "Sent      1,000,000 size: 1280-Byte done!\tGot      1,000,000 took   0.1077 sec, thr: 95.098 Gbps, theoretical: 95.097 Gbps, difference: -0.0010 Gbps\n",
      "Sent      1,000,000 size: 1344-Byte done!\tGot      1,000,000 took   0.1128 sec, thr: 95.320 Gbps, theoretical: 95.319 Gbps, difference: -0.0010 Gbps\n",
      "Sent      1,000,000 size: 1408-Byte done!\tGot      1,000,000 took   0.1179 sec, thr: 95.523 Gbps, theoretical: 95.522 Gbps, difference: -0.0010 Gbps\n",
      "Sent      1,000,000 size: 1472-Byte done!\tGot      1,000,000 took   0.1230 sec, thr: 95.710 Gbps, theoretical: 95.709 Gbps, difference: -0.0010 Gbps\n",
      "Sent  1,000,000,000 size:   64-Byte done!\tGot  1,000,000,000 took  10.3999 sec, thr: 49.231 Gbps, theoretical: 49.231 Gbps, difference: -0.0005 Gbps\n",
      "Sent  1,000,000,000 size:  128-Byte done!\tGot  1,000,000,000 took  16.7056 sec, thr: 61.297 Gbps, theoretical: 65.979 Gbps, difference: 4.6826 Gbps\n",
      "Sent  1,000,000,000 size:  192-Byte done!\tGot  1,000,000,000 took  20.6398 sec, thr: 74.419 Gbps, theoretical: 74.419 Gbps, difference: -0.0007 Gbps\n",
      "Sent  1,000,000,000 size:  256-Byte done!\tGot  1,000,000,000 took  25.7597 sec, thr: 79.504 Gbps, theoretical: 79.503 Gbps, difference: -0.0008 Gbps\n",
      "Sent  1,000,000,000 size:  320-Byte done!\tGot  1,000,000,000 took  30.8797 sec, thr: 82.902 Gbps, theoretical: 82.902 Gbps, difference: -0.0008 Gbps\n",
      "Sent  1,000,000,000 size:  384-Byte done!\tGot  1,000,000,000 took  35.9996 sec, thr: 85.334 Gbps, theoretical: 85.333 Gbps, difference: -0.0008 Gbps\n",
      "Sent  1,000,000,000 size:  448-Byte done!\tGot  1,000,000,000 took  41.1196 sec, thr: 87.160 Gbps, theoretical: 87.160 Gbps, difference: -0.0009 Gbps\n",
      "Sent  1,000,000,000 size:  512-Byte done!\tGot  1,000,000,000 took  46.2395 sec, thr: 88.582 Gbps, theoretical: 88.581 Gbps, difference: -0.0009 Gbps\n",
      "Sent  1,000,000,000 size:  576-Byte done!\tGot  1,000,000,000 took  51.3595 sec, thr: 89.721 Gbps, theoretical: 89.720 Gbps, difference: -0.0009 Gbps\n",
      "Sent  1,000,000,000 size:  640-Byte done!\tGot  1,000,000,000 took  56.4794 sec, thr: 90.652 Gbps, theoretical: 90.652 Gbps, difference: -0.0009 Gbps\n",
      "Sent  1,000,000,000 size:  704-Byte done!\tGot  1,000,000,000 took  61.5994 sec, thr: 91.429 Gbps, theoretical: 91.429 Gbps, difference: -0.0009 Gbps\n",
      "Sent  1,000,000,000 size:  768-Byte done!\tGot  1,000,000,000 took  66.7193 sec, thr: 92.087 Gbps, theoretical: 92.086 Gbps, difference: -0.0009 Gbps\n",
      "Sent  1,000,000,000 size:  832-Byte done!\tGot  1,000,000,000 took  71.8393 sec, thr: 92.651 Gbps, theoretical: 92.650 Gbps, difference: -0.0009 Gbps\n",
      "Sent  1,000,000,000 size:  896-Byte done!\tGot  1,000,000,000 took  76.9592 sec, thr: 93.140 Gbps, theoretical: 93.139 Gbps, difference: -0.0009 Gbps\n",
      "Sent  1,000,000,000 size:  960-Byte done!\tGot  1,000,000,000 took  82.0792 sec, thr: 93.568 Gbps, theoretical: 93.567 Gbps, difference: -0.0009 Gbps\n",
      "Sent  1,000,000,000 size: 1024-Byte done!\tGot  1,000,000,000 took  87.1991 sec, thr: 93.946 Gbps, theoretical: 93.945 Gbps, difference: -0.0009 Gbps\n",
      "Sent  1,000,000,000 size: 1088-Byte done!\tGot  1,000,000,000 took  92.3191 sec, thr: 94.282 Gbps, theoretical: 94.281 Gbps, difference: -0.0009 Gbps\n",
      "Sent  1,000,000,000 size: 1152-Byte done!\tGot  1,000,000,000 took  97.4390 sec, thr: 94.582 Gbps, theoretical: 94.581 Gbps, difference: -0.0009 Gbps\n",
      "Sent  1,000,000,000 size: 1216-Byte done!\tGot  1,000,000,000 took 102.5590 sec, thr: 94.853 Gbps, theoretical: 94.852 Gbps, difference: -0.0009 Gbps\n",
      "Sent  1,000,000,000 size: 1280-Byte done!\tGot  1,000,000,000 took 107.6789 sec, thr: 95.098 Gbps, theoretical: 95.097 Gbps, difference: -0.0009 Gbps\n",
      "Sent  1,000,000,000 size: 1344-Byte done!\tGot  1,000,000,000 took 112.7989 sec, thr: 95.320 Gbps, theoretical: 95.319 Gbps, difference: -0.0009 Gbps\n",
      "Sent  1,000,000,000 size: 1408-Byte done!\tGot  1,000,000,000 took 117.9188 sec, thr: 95.523 Gbps, theoretical: 95.522 Gbps, difference: -0.0009 Gbps\n",
      "Sent  1,000,000,000 size: 1472-Byte done!\tGot  1,000,000,000 took 123.0388 sec, thr: 95.710 Gbps, theoretical: 95.709 Gbps, difference: -0.0009 Gbps\n"
     ]
    }
   ],
   "source": [
    "import time\n",
    "# overhead is UDP (8), IP (20), Ethernet(14) and FCS (4), IFG (12), preamble (7), start frame delimiter (1)\n",
    "overhead = 8 + 20 + 14 + 4 + 12 + 7 + 1\n",
    "freq = int(ol_w1.clock_dict['clock0']['frequency'])\n",
    "ol_w0_tg = ol_w0.traffic_generator_0_3\n",
    "experiment_dict = {}\n",
    "local_dict = {}\n",
    "ol_w0_tg.register_map.mode = TgMode.PRODUCER\n",
    "ol_w1_tg.freq = freq\n",
    "ol_w0_tg.freq = freq\n",
    "for pkt in [1_000_000, 1_000_000_000]:\n",
    "    ol_w0_tg.reset_stats()\n",
    "    ol_w1_tg.reset_stats()\n",
    "    local_dict = {}\n",
    "    for i in range(23):\n",
    "        beats = i + 1\n",
    "        ol_w0_tg.register_map.number_beats = beats\n",
    "        ol_w0_tg.start(TgMode.PRODUCER, 12, pkt, beats, 0)\n",
    "        while int(ol_w0_tg.register_map.out_traffic_packets) != pkt:\n",
    "            time.sleep(0.8)\n",
    "        # Get results from local and remote worker\n",
    "        rx_tot_pkt, rx_thr, rx_time = ol_w1_tg.compute_app_throughput('rx')\n",
    "        tx_tot_pkt, tx_thr, tx_time = ol_w0_tg.compute_app_throughput('tx')\n",
    "        #Create dict entry for this particular experiment\n",
    "        entry_dict = {'size': (beats * 64), 'rx_pkts' : rx_tot_pkt, 'tx_thr': tx_thr, 'rx_thr': rx_thr}\n",
    "        local_dict[beats] = entry_dict\n",
    "        # Reset probes to prepare for next computation\n",
    "        ol_w0_tg.reset_stats()\n",
    "        ol_w1_tg.reset_stats()\n",
    "        theoretical = (beats * 64 * 100)/((beats*64) + overhead) \n",
    "        print(\"Sent {:14,} size: {:4}-Byte done!\tGot {:14,} took {:8.4f} sec, thr: {:.3f} Gbps, theoretical: {:.3f} Gbps, difference: {:.4f} Gbps\"\\\n",
    "              .format(pkt,beats*64, rx_tot_pkt, rx_time, rx_thr, theoretical, theoretical-rx_thr))\n",
    "        time.sleep(0.5)\n",
    "    experiment_dict[pkt] = local_dict"
   ]
  },
  {
   "cell_type": "markdown",
   "metadata": {},
   "source": [
    "## Plot the results\n",
    "Finally we can plot the results using matplotlib"
   ]
  },
  {
   "cell_type": "code",
   "execution_count": 12,
   "metadata": {},
   "outputs": [
    {
     "data": {
      "image/png": "[encoded data removed]",
      "text/plain": [
       "<Figure size 1332x504 with 1 Axes>"
      ]
     },
     "metadata": {
      "needs_background": "light"
     },
     "output_type": "display_data"
    }
   ],
   "source": [
    "%matplotlib inline\n",
    "import matplotlib.pyplot as plt\n",
    "\n",
    "dict_oneM = experiment_dict[1_000_000]\n",
    "dict_oneB = experiment_dict[1_000_000_000]\n",
    "labels = []\n",
    "oneM_thr = []\n",
    "oneB_thr = []\n",
    "\n",
    "for b in dict_oneM:\n",
    "    labels.append(dict_oneM[b]['size'])\n",
    "    oneM_thr.append(dict_oneM[b]['rx_thr'])\n",
    "\n",
    "for b in dict_oneB:\n",
    "    oneB_thr.append(dict_oneB[b]['rx_thr'])\n",
    "\n",
    "x = np.arange(len(labels))  # the label locations\n",
    "width = 0.35  # the width of the bars\n",
    "\n",
    "fig, ax = plt.subplots()\n",
    "rects1 = ax.bar(x - width/2, oneM_thr, width, label='A Million Packets')\n",
    "rects2 = ax.bar(x + width/2, oneB_thr, width, label='A Billion Packets')\n",
    "\n",
    "# Add some text for labels, title and custom x-axis tick labels, etc.\n",
    "ax.set_ylabel('Throughput (Gbit/s)')\n",
    "ax.set_xlabel('Payload Size (Byte)')\n",
    "ax.set_title('Throughput for different packet size at application level')\n",
    "ax.set_xticks(x)\n",
    "ax.set_xticklabels(labels)\n",
    "ax.legend()\n",
    "ax.set_ylim(40,100)\n",
    "fig.set_size_inches(18.5, 7)\n",
    "plt.show()"
   ]
  },
  {
   "cell_type": "markdown",
   "metadata": {},
   "source": [
    "## Release Alveo cards\n",
    "To release the alveo cards the pynq overlay is freed"
   ]
  },
  {
   "cell_type": "code",
   "execution_count": 13,
   "metadata": {},
   "outputs": [],
   "source": [
    "pynq.Overlay.free(ol_w0)\n",
    "pynq.Overlay.free(ol_w1)"
   ]
  },
  {
   "cell_type": "markdown",
   "metadata": {},
   "source": [
    "------------------------------------------\n",
    "Copyright (c) 2020-2021, Xilinx, Inc."
   ]
  }
 ],
 "metadata": {
  "kernelspec": {
   "display_name": "Python 3",
   "language": "python",
   "name": "python3"
  },
  "language_info": {
   "codemirror_mode": {
    "name": "ipython",
    "version": 3
   },
   "file_extension": ".py",
   "mimetype": "text/x-python",
   "name": "python",
   "nbconvert_exporter": "python",
   "pygments_lexer": "ipython3",
   "version": "3.7.4"
  }
 },
 "nbformat": 4,
 "nbformat_minor": 4
}